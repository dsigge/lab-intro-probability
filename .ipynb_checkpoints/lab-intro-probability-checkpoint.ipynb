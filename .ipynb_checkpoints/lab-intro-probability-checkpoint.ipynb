{
 "cells": [
  {
   "cell_type": "markdown",
   "metadata": {},
   "source": [
    "# Lab | Intro to Probability"
   ]
  },
  {
   "cell_type": "markdown",
   "metadata": {},
   "source": [
    "**Objective**\n",
    "\n",
    "Welcome to this Intro to Probability lab, where we explore decision-making scenarios through the lens of probability and strategic analysis. In the business world, making informed decisions is crucial, especially when faced with uncertainties. This lab focuses on scenarios where probabilistic outcomes play a significant role in shaping strategies and outcomes. Students will engage in exercises that require assessing and choosing optimal paths based on data-driven insights. The goal is to enhance your skills by applying probability concepts to solve real-world problems."
   ]
  },
  {
   "cell_type": "markdown",
   "metadata": {},
   "source": [
    "**Challenge 1**"
   ]
  },
  {
   "cell_type": "markdown",
   "metadata": {},
   "source": [
    "#### Ironhack Airlines \n",
    "\n",
    "Often Airlines sell more tickets than they have seats available, this is called overbooking. Consider the following:\n",
    "- A plane has 450 seats. \n",
    "- Based on historical data we conclude that each individual passenger has a 3% chance of missing it's flight. \n",
    "\n",
    "If the Ironhack Airlines routinely sells 460 tickets, what is the chance that they have a seats for all passenger?"
   ]
  },
  {
   "cell_type": "code",
   "execution_count": 10,
   "metadata": {},
   "outputs": [
    {
     "data": {
      "text/plain": [
       "(0.8844772466215431, 0.8505100870586242)"
      ]
     },
     "execution_count": 10,
     "metadata": {},
     "output_type": "execute_result"
    }
   ],
   "source": [
    "#code here\n",
    "import scipy.stats as stats\n",
    "\n",
    "# Given values\n",
    "n = 460       # number of tickets sold\n",
    "p = 0.97      # probability that a passenger shows up\n",
    "seats = 450   # number of seats on the plane\n",
    "\n",
    "# Using binomial distribution\n",
    "prob_binom = stats.binom.cdf(seats, n, p)\n",
    "\n",
    "# Using normal approximation\n",
    "mean = n * p\n",
    "std_dev = (n * p * (1 - p)) ** 0.5\n",
    "z_score = (seats - mean) / std_dev\n",
    "prob_norm = stats.norm.cdf(z_score)\n",
    "\n",
    "prob_binom, prob_norm"
   ]
  },
  {
   "cell_type": "markdown",
   "metadata": {},
   "source": [
    "**Challenge 2**"
   ]
  },
  {
   "cell_type": "markdown",
   "metadata": {},
   "source": [
    "#### Ironhack Call Center "
   ]
  },
  {
   "cell_type": "markdown",
   "metadata": {},
   "source": [
    "Suppose a customer service representative at a call center is handling customer complaints. Consider the following:\n",
    "- The probability of successfully resolving a customer complaint on the first attempt is 0.3. \n",
    "\n",
    "\n",
    "What is the probability that the representative needs to make at least three attempts before successfully resolving a customer complaint?"
   ]
  },
  {
   "cell_type": "code",
   "execution_count": 11,
   "metadata": {},
   "outputs": [
    {
     "data": {
      "text/plain": [
       "(0.48999999999999994, 0.49)"
      ]
     },
     "execution_count": 11,
     "metadata": {},
     "output_type": "execute_result"
    }
   ],
   "source": [
    "#code here\n",
    "p = 0.3  # Probability of success\n",
    "q = 1 - p  # Probability of failure\n",
    "\n",
    "# Probability of at least 3 attempts\n",
    "prob_at_least_3_attempts = q * q\n",
    "\n",
    "# Alternatively using the cumulative distribution function (CDF)\n",
    "# The cumulative probability for X < 3\n",
    "prob_less_than_3 = stats.geom.cdf(2, p)\n",
    "\n",
    "# The complementary probability for X >= 3\n",
    "prob_at_least_3_attempts_cdf = 1 - prob_less_than_3\n",
    "\n",
    "prob_at_least_3_attempts, prob_at_least_3_attempts_cdf"
   ]
  },
  {
   "cell_type": "markdown",
   "metadata": {},
   "source": [
    "**Challenge 3**"
   ]
  },
  {
   "cell_type": "markdown",
   "metadata": {},
   "source": [
    "#### Ironhack Website"
   ]
  },
  {
   "cell_type": "markdown",
   "metadata": {},
   "source": [
    "Consider a scenario related to Ironhack website traffic. Where:\n",
    "- our website takes on average 500 visits per hour.\n",
    "- the website's server is designed to handle up to 550 vists per hour.\n",
    "\n",
    "\n",
    "What is the probability of the website server being overwhelmed?"
   ]
  },
  {
   "cell_type": "code",
   "execution_count": 12,
   "metadata": {},
   "outputs": [
    {
     "name": "stdout",
     "output_type": "stream",
     "text": [
      "0.01289822084039205\n"
     ]
    }
   ],
   "source": [
    "#code here\n",
    "import scipy.stats as stats\n",
    "\n",
    "# Given values\n",
    "lambda_rate = 500  # average number of visits per hour\n",
    "threshold = 550    # server capacity\n",
    "\n",
    "# Calculate the cumulative probability for X <= 550\n",
    "prob_less_equal_550 = stats.poisson.cdf(threshold, lambda_rate)\n",
    "\n",
    "# Calculate the complementary probability for X > 550\n",
    "prob_more_than_550 = 1 - prob_less_equal_550\n",
    "\n",
    "print(prob_more_than_550)"
   ]
  },
  {
   "cell_type": "markdown",
   "metadata": {},
   "source": [
    "What is the probability of being overwhelmed at some point during a day? (consider 24hours)"
   ]
  },
  {
   "cell_type": "code",
   "execution_count": 14,
   "metadata": {},
   "outputs": [
    {
     "data": {
      "text/plain": [
       "0.2677043869515715"
      ]
     },
     "execution_count": 14,
     "metadata": {},
     "output_type": "execute_result"
    }
   ],
   "source": [
    "#code hereimport scipy.stats as stats\n",
    "\n",
    "# Given parameters\n",
    "lambda_visits = 500  # average number of visits per hour\n",
    "threshold_visits = 550  # threshold for the server to be overwhelmed\n",
    "\n",
    "# Calculate the probability of being overwhelmed in one hour\n",
    "prob_overwhelmed_one_hour = 1 - stats.poisson.cdf(threshold_visits, lambda_visits)\n",
    "\n",
    "# Calculate the probability of being overwhelmed at some point during 24 hours\n",
    "prob_overwhelmed_24_hours = 1 - (1 - prob_overwhelmed_one_hour) ** 24\n",
    "\n",
    "prob_overwhelmed_24_hours"
   ]
  },
  {
   "cell_type": "markdown",
   "metadata": {},
   "source": [
    "**Challenge 4**"
   ]
  },
  {
   "cell_type": "markdown",
   "metadata": {},
   "source": [
    "#### Ironhack Helpdesk"
   ]
  },
  {
   "cell_type": "markdown",
   "metadata": {},
   "source": [
    "Consider a scenario related to the time between arrivals of customers at a service desk.\n",
    "\n",
    "On average, a customers arrives every 10minutes.\n",
    "\n",
    "What is the probability that the next customer will arrive within the next 5 minutes?"
   ]
  },
  {
   "cell_type": "code",
   "execution_count": 15,
   "metadata": {},
   "outputs": [
    {
     "data": {
      "text/plain": [
       "0.3934693402873666"
      ]
     },
     "execution_count": 15,
     "metadata": {},
     "output_type": "execute_result"
    }
   ],
   "source": [
    "import scipy.stats as stats\n",
    "\n",
    "# Given parameters\n",
    "mean_interarrival_time = 10  # average time between arrivals in minutes\n",
    "time_interval = 5  # time interval within which we want to calculate the probability\n",
    "\n",
    "# Calculate the rate parameter (lambda) for the exponential distribution\n",
    "lambda_rate = 1 / mean_interarrival_time\n",
    "\n",
    "# Calculate the probability that the next customer arrives within the next 5 minutes\n",
    "probability_within_5_minutes = stats.expon.cdf(time_interval, scale=1/lambda_rate)\n",
    "\n",
    "probability_within_5_minutes"
   ]
  },
  {
   "cell_type": "markdown",
   "metadata": {},
   "source": [
    "If there is no customer for 15minutes, employees can that a 5minutes break.\n",
    "\n",
    "What is the probability an employee taking a break?"
   ]
  },
  {
   "cell_type": "code",
   "execution_count": 16,
   "metadata": {},
   "outputs": [
    {
     "ename": "NameError",
     "evalue": "name 'np' is not defined",
     "output_type": "error",
     "traceback": [
      "\u001b[0;31m---------------------------------------------------------------------------\u001b[0m",
      "\u001b[0;31mNameError\u001b[0m                                 Traceback (most recent call last)",
      "Cell \u001b[0;32mIn[16], line 30\u001b[0m\n\u001b[1;32m     27\u001b[0m average_arrival_time \u001b[38;5;241m=\u001b[39m \u001b[38;5;241m10\u001b[39m  \u001b[38;5;66;03m# Minutes\u001b[39;00m\n\u001b[1;32m     28\u001b[0m target_time \u001b[38;5;241m=\u001b[39m \u001b[38;5;241m5\u001b[39m  \u001b[38;5;66;03m# Minutes\u001b[39;00m\n\u001b[0;32m---> 30\u001b[0m probability_next_arrival \u001b[38;5;241m=\u001b[39m arrival_probability(average_arrival_time, target_time)\n\u001b[1;32m     31\u001b[0m \u001b[38;5;28mprint\u001b[39m(\u001b[38;5;124mf\u001b[39m\u001b[38;5;124m\"\u001b[39m\u001b[38;5;124mProbability of next customer arriving within \u001b[39m\u001b[38;5;132;01m{\u001b[39;00mtarget_time\u001b[38;5;132;01m}\u001b[39;00m\u001b[38;5;124m minutes: \u001b[39m\u001b[38;5;132;01m{\u001b[39;00mprobability_next_arrival\u001b[38;5;132;01m:\u001b[39;00m\u001b[38;5;124m.2f\u001b[39m\u001b[38;5;132;01m}\u001b[39;00m\u001b[38;5;124m\"\u001b[39m)\n\u001b[1;32m     34\u001b[0m \u001b[38;5;66;03m# Probability of employee taking a break (no arrival in break eligibility time)\u001b[39;00m\n",
      "Cell \u001b[0;32mIn[16], line 21\u001b[0m, in \u001b[0;36marrival_probability\u001b[0;34m(average_arrival_time, target_time)\u001b[0m\n\u001b[1;32m     18\u001b[0m \u001b[38;5;66;03m# Probability is the complement of the probability of no arrival\u001b[39;00m\n\u001b[1;32m     19\u001b[0m \u001b[38;5;66;03m# (using the Poisson probability distribution formula)\u001b[39;00m\n\u001b[1;32m     20\u001b[0m lambda_value \u001b[38;5;241m=\u001b[39m arrival_rate \u001b[38;5;241m*\u001b[39m target_time\n\u001b[0;32m---> 21\u001b[0m probability_no_arrival \u001b[38;5;241m=\u001b[39m np\u001b[38;5;241m.\u001b[39mexp(\u001b[38;5;241m-\u001b[39mlambda_value)\n\u001b[1;32m     22\u001b[0m probability_arrival \u001b[38;5;241m=\u001b[39m \u001b[38;5;241m1\u001b[39m \u001b[38;5;241m-\u001b[39m probability_no_arrival\n\u001b[1;32m     24\u001b[0m \u001b[38;5;28;01mreturn\u001b[39;00m probability_arrival\n",
      "\u001b[0;31mNameError\u001b[0m: name 'np' is not defined"
     ]
    }
   ],
   "source": [
    "# Probability of next customer arriving within a certain time frame\n",
    "\n",
    "def arrival_probability(average_arrival_time, target_time):\n",
    "  \"\"\"\n",
    "  Calculates the probability of a customer arriving within a specific time frame.\n",
    "\n",
    "  Args:\n",
    "      average_arrival_time (float): Average time between customer arrivals (in minutes).\n",
    "      target_time (float): Time frame of interest (in minutes).\n",
    "\n",
    "  Returns:\n",
    "      float: Probability of a customer arriving within the target time.\n",
    "  \"\"\"\n",
    "\n",
    "  # Assuming a Poisson arrival process (customers arrive independently)\n",
    "  arrival_rate = 1 / average_arrival_time  # Customers per minute\n",
    "\n",
    "  # Probability is the complement of the probability of no arrival\n",
    "  # (using the Poisson probability distribution formula)\n",
    "  lambda_value = arrival_rate * target_time\n",
    "  probability_no_arrival = np.exp(-lambda_value)\n",
    "  probability_arrival = 1 - probability_no_arrival\n",
    "\n",
    "  return probability_arrival\n",
    "\n",
    "# Example usage\n",
    "average_arrival_time = 10  # Minutes\n",
    "target_time = 5  # Minutes\n",
    "\n",
    "probability_next_arrival = arrival_probability(average_arrival_time, target_time)\n",
    "print(f\"Probability of next customer arriving within {target_time} minutes: {probability_next_arrival:.2f}\")\n",
    "\n",
    "\n",
    "# Probability of employee taking a break (no arrival in break eligibility time)\n",
    "\n",
    "def break_probability(average_arrival_time, break_eligibility_time):\n",
    "  \"\"\"\n",
    "  Calculates the probability of an employee taking a break (no arrival during break eligibility time).\n",
    "\n",
    "  Args:\n",
    "      average_arrival_time (float): Average time between customer arrivals (in minutes).\n",
    "      break_eligibility_time (float): Time after which employees are eligible for a break (in minutes).\n",
    "\n",
    "  Returns:\n",
    "      float: Probability of no customer arrival during break eligibility time.\n",
    "  \"\"\"\n",
    "\n",
    "  return arrival_probability(average_arrival_time, break_eligibility_time)\n",
    "\n",
    "# Example usage\n",
    "break_eligibility_time = 15  # Minutes\n",
    "\n",
    "probability_break = break_probability(average_arrival_time, break_eligibility_time)\n",
    "print(f\"Probability of employee taking a break (no arrival in {break_eligibility_time} minutes): {probability_break:.4f}\")"
   ]
  },
  {
   "cell_type": "markdown",
   "metadata": {},
   "source": [
    "**Challenge 5**"
   ]
  },
  {
   "cell_type": "markdown",
   "metadata": {},
   "source": [
    "The weights of a certain species of birds follow a normal distribution with a mean weight of 150 grams and a standard deviation of 10 grams. \n",
    "\n",
    "- If we randomly select a bird, what is the probability that its weight is between 140 and 160 grams?"
   ]
  },
  {
   "cell_type": "code",
   "execution_count": 17,
   "metadata": {},
   "outputs": [
    {
     "name": "stdout",
     "output_type": "stream",
     "text": [
      "Probability of bird weight between 140 and 160 grams: 0.6827\n"
     ]
    }
   ],
   "source": [
    "#code here\n",
    "from scipy.stats import norm\n",
    "\n",
    "# Define bird weight distribution parameters\n",
    "mean_weight = 150  # Grams\n",
    "standard_deviation = 10  # Grams\n",
    "\n",
    "# Weight range of interest (140 grams to 160 grams)\n",
    "lower_weight = 140\n",
    "upper_weight = 160\n",
    "\n",
    "# Create a normal distribution object\n",
    "bird_weight_distribution = norm(loc=mean_weight, scale=standard_deviation)\n",
    "\n",
    "# Probability of a bird's weight being between 140 and 160 grams\n",
    "probability = bird_weight_distribution.cdf(upper_weight) - bird_weight_distribution.cdf(lower_weight)\n",
    "\n",
    "# Print the probability\n",
    "print(f\"Probability of bird weight between {lower_weight} and {upper_weight} grams: {probability:.4f}\")"
   ]
  },
  {
   "cell_type": "markdown",
   "metadata": {},
   "source": [
    "**Challenge 6**"
   ]
  },
  {
   "cell_type": "markdown",
   "metadata": {},
   "source": [
    "If the lifetime (in hours) of a certain electronic component follows an exponential distribution with a mean lifetime of 50 hours, what is the probability that the component fails within the first 30 hours?"
   ]
  },
  {
   "cell_type": "code",
   "execution_count": 18,
   "metadata": {},
   "outputs": [
    {
     "name": "stdout",
     "output_type": "stream",
     "text": [
      "Probability of component failing within 30 hours: 0.4512\n"
     ]
    }
   ],
   "source": [
    "#code here\n",
    "\n",
    "from scipy.stats import expon\n",
    "\n",
    "# Define component lifetime distribution parameters\n",
    "mean_lifetime = 50  # Hours\n",
    "failure_time_limit = 30  # Hours\n",
    "\n",
    "# Create an exponential distribution object\n",
    "component_lifetime_distribution = expon(scale=mean_lifetime)\n",
    "\n",
    "# Probability of component failing within 30 hours\n",
    "probability_failure = component_lifetime_distribution.cdf(failure_time_limit)\n",
    "\n",
    "# Print the probability\n",
    "print(f\"Probability of component failing within {failure_time_limit} hours: {probability_failure:.4f}\")\n"
   ]
  },
  {
   "cell_type": "code",
   "execution_count": null,
   "metadata": {},
   "outputs": [],
   "source": []
  }
 ],
 "metadata": {
  "kernelspec": {
   "display_name": "Python 3 (ipykernel)",
   "language": "python",
   "name": "python3"
  },
  "language_info": {
   "codemirror_mode": {
    "name": "ipython",
    "version": 3
   },
   "file_extension": ".py",
   "mimetype": "text/x-python",
   "name": "python",
   "nbconvert_exporter": "python",
   "pygments_lexer": "ipython3",
   "version": "3.11.7"
  }
 },
 "nbformat": 4,
 "nbformat_minor": 2
}
